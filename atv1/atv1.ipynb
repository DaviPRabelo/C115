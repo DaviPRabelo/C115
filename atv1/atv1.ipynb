{
 "cells": [
  {
   "cell_type": "markdown",
   "id": "d935802a",
   "metadata": {},
   "source": [
    "**Questão 1**"
   ]
  },
  {
   "cell_type": "markdown",
   "id": "35462237",
   "metadata": {},
   "source": [
    "Web Services são componentes de software com baixo fator de\n",
    "acoplamento, utilizados por meio de padrões de tecnologia Internet.\n",
    "Um Web Service representa uma função de negócio ou um serviço\n",
    "que pode ser acessado por uma outra aplicação."
   ]
  },
  {
   "cell_type": "markdown",
   "id": "b2c811f0",
   "metadata": {},
   "source": [
    "**Questão 2**"
   ]
  },
  {
   "cell_type": "markdown",
   "id": "686f78d4",
   "metadata": {},
   "source": [
    "É um padrão onde é determinado um conjunto de regras de codificação para os dados, onde existe duas partes chamando de \"envelope SOAP\", onde o SOAP header é usado para a passagem e controle de mensagens enquanto o segundo, chamado SOAP body, é para os dados transmitidos"
   ]
  },
  {
   "cell_type": "markdown",
   "id": "6f8c42e1",
   "metadata": {},
   "source": [
    "**Questão 3**"
   ]
  },
  {
   "cell_type": "markdown",
   "id": "0f6d5a12",
   "metadata": {},
   "source": [
    "Os três elementos principais de um WEB service são \n",
    "Registro de Serviço;\n",
    "Fornecedor de Serviços;\n",
    "Solicitante de Serviços"
   ]
  },
  {
   "cell_type": "markdown",
   "id": "2a9b362d",
   "metadata": {},
   "source": [
    "**Questão 4**"
   ]
  },
  {
   "cell_type": "markdown",
   "id": "192b45fa",
   "metadata": {},
   "source": [
    "WSDL é uma descrição em formato XML de um Web Service, tendo com principais elementos básicos: types, message, portType, binding, operation e definitions"
   ]
  },
  {
   "cell_type": "markdown",
   "id": "8bada0a4",
   "metadata": {},
   "source": [
    "**Questão 5**"
   ]
  },
  {
   "cell_type": "markdown",
   "id": "dab2d498",
   "metadata": {},
   "source": [
    "O UDDI é um padrão utilizado para registrar e localizar Web Services. Sua principal função é atuar como um diretório onde provedores de serviços podem publicar informações sobre seus Web Services."
   ]
  },
  {
   "cell_type": "markdown",
   "id": "f7646641",
   "metadata": {},
   "source": [
    "**Questão 6**"
   ]
  },
  {
   "cell_type": "markdown",
   "id": "dc0b1d29",
   "metadata": {},
   "source": [
    "REST é um conjunto de regras que permitem a criação de um projeto com interfaces bem definidas. E foi criado por Roy Fielding em 2000 como tese de doutorado"
   ]
  },
  {
   "cell_type": "markdown",
   "id": "9752bc01",
   "metadata": {},
   "source": [
    "**Questão 7**"
   ]
  },
  {
   "cell_type": "markdown",
   "id": "55dbc060",
   "metadata": {},
   "source": [
    "Um recurso, ou Recourse, é uma chave de abstração, no qual, pode ser qualquer coisa importante o suficiente para ser referenciado com um nome, no qual usa um URI, Uniform Recourse Indentifier, para identificar um recurso."
   ]
  },
  {
   "cell_type": "markdown",
   "id": "5d497524",
   "metadata": {},
   "source": [
    "**Questão 8**"
   ]
  },
  {
   "cell_type": "markdown",
   "id": "d0999cb5",
   "metadata": {},
   "source": [
    "Virtualização é o processo de criação de uma representação com base em software, ou virtual. Tendo como principais recursos vitualizados: Aplicativos; virtuais; Servidores; Armazenamento;Redes. "
   ]
  },
  {
   "cell_type": "markdown",
   "id": "4d9e1194",
   "metadata": {},
   "source": [
    "**Questão 9**"
   ]
  },
  {
   "cell_type": "markdown",
   "id": "61a19cfb",
   "metadata": {},
   "source": [
    "O conteiner docker é uma unidade padãao de software que empacota o código e todas as suas dependências para que o aplicativo seja executado de forma rápida e confiável de um ambiente de computação para outro.\n"
   ]
  }
 ],
 "metadata": {
  "language_info": {
   "name": "python"
  }
 },
 "nbformat": 4,
 "nbformat_minor": 5
}
